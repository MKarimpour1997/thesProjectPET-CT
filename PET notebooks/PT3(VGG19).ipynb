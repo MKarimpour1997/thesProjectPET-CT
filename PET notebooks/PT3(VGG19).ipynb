{
  "nbformat": 4,
  "nbformat_minor": 0,
  "metadata": {
    "colab": {
      "provenance": [],
      "gpuType": "T4"
    },
    "kernelspec": {
      "name": "python3",
      "display_name": "Python 3"
    },
    "language_info": {
      "name": "python"
    },
    "accelerator": "GPU"
  },
  "cells": [
    {
      "cell_type": "code",
      "execution_count": 1,
      "metadata": {
        "id": "49BoPFEeD5fl"
      },
      "outputs": [],
      "source": [
        "import tensorflow as tf\n",
        "import numpy as np\n",
        "import pandas as pd\n",
        "import seaborn as sns\n",
        "import matplotlib.pyplot as plt\n",
        "import os\n",
        "import keras\n",
        "import cv2\n",
        "import pickle\n",
        "import sklearn\n",
        "import random\n",
        "\n",
        "from PIL import Image\n",
        "from sklearn.metrics import auc, f1_score, roc_curve, recall_score, precision_score, accuracy_score, confusion_matrix\n",
        "from sklearn import metrics\n",
        "from google.colab import files\n",
        "from keras.preprocessing import image\n",
        "from keras.layers.serialization import activation\n",
        "from keras.preprocessing.image import ImageDataGenerator\n",
        "from keras.applications import *\n",
        "from keras.layers import Dense, GlobalAveragePooling2D\n",
        "from keras.models import Model\n",
        "from keras.models import load_model\n",
        "from keras import backend as K\n",
        "from tensorflow.keras import layers\n",
        "from tensorflow.keras.preprocessing.image import load_img"
      ]
    },
    {
      "cell_type": "markdown",
      "source": [
        "#**Data directory**"
      ],
      "metadata": {
        "id": "Y849vrmPHIFv"
      }
    },
    {
      "cell_type": "code",
      "source": [
        "base_dir = '/content/drive/MyDrive/TIFF-PETonlyWholeDataset'\n",
        "\n",
        "training_set_dir = os.path.join(base_dir, 'trainingSet')\n",
        "test_set_dir = os.path.join(base_dir, 'testSet')\n",
        "\n",
        "train_lungCancer_dir = os.path.join(training_set_dir, 'lungCancer')\n",
        "train_normal_dir = os.path.join(training_set_dir, 'normal')\n",
        "test_lungCancer_dir = os.path.join(test_set_dir, 'lungCancer')\n",
        "test_normal_dir = os.path.join(test_set_dir, 'normal')"
      ],
      "metadata": {
        "id": "kEtNszssHLKo"
      },
      "execution_count": 2,
      "outputs": []
    },
    {
      "cell_type": "code",
      "source": [
        "print('total training lungCancer images:', len(os.listdir(train_lungCancer_dir)))\n",
        "print('total training normal images:', len(os.listdir(train_normal_dir)))"
      ],
      "metadata": {
        "colab": {
          "base_uri": "https://localhost:8080/"
        },
        "id": "tJgTZPxiHN6Q",
        "outputId": "d2352d01-82c7-4297-bcd3-51e427881c09"
      },
      "execution_count": 3,
      "outputs": [
        {
          "output_type": "stream",
          "name": "stdout",
          "text": [
            "total training lungCancer images: 811\n",
            "total training normal images: 811\n"
          ]
        }
      ]
    },
    {
      "cell_type": "markdown",
      "source": [
        "#**Checking patient overlap**"
      ],
      "metadata": {
        "id": "v3B0qQkNHXGS"
      }
    },
    {
      "cell_type": "code",
      "source": [
        "def check_data_leakage(directory1, directory2):\n",
        "    filenames_dir1 = set(os.listdir(directory1))\n",
        "    filenames_dir2 = set(os.listdir(directory2))\n",
        "\n",
        "    common_filenames = filenames_dir1.intersection(filenames_dir2)\n",
        "\n",
        "    if len(common_filenames) > 0:\n",
        "        print(\"Data leakage detected!\")\n",
        "        print(\"Common image filenames between the directories:\", common_filenames)\n",
        "    else:\n",
        "        print(\"No data leakage detected.\")"
      ],
      "metadata": {
        "id": "Pg-tcEF29Lnt"
      },
      "execution_count": 4,
      "outputs": []
    },
    {
      "cell_type": "code",
      "source": [
        "check_data_leakage(train_lungCancer_dir, test_lungCancer_dir)\n",
        "check_data_leakage(train_normal_dir, test_normal_dir)\n",
        "check_data_leakage(train_lungCancer_dir, test_normal_dir)\n",
        "check_data_leakage(train_normal_dir, test_lungCancer_dir)"
      ],
      "metadata": {
        "colab": {
          "base_uri": "https://localhost:8080/"
        },
        "id": "-_NrJMdz-1Ri",
        "outputId": "d693b95e-7565-4fab-d590-580bc16994b3"
      },
      "execution_count": 5,
      "outputs": [
        {
          "output_type": "stream",
          "name": "stdout",
          "text": [
            "No data leakage detected.\n",
            "No data leakage detected.\n",
            "No data leakage detected.\n",
            "No data leakage detected.\n"
          ]
        }
      ]
    },
    {
      "cell_type": "markdown",
      "source": [
        "#**Data visualization**"
      ],
      "metadata": {
        "id": "JI747zc8HkFw"
      }
    },
    {
      "cell_type": "code",
      "source": [
        "def display_random_tif_images(directory, num_images=3):\n",
        "    filenames = os.listdir(directory)\n",
        "    random_images = random.sample(filenames, num_images)\n",
        "\n",
        "    for filename in random_images:\n",
        "        image_path = os.path.join(directory, filename)\n",
        "        img = Image.open(image_path)\n",
        "        img_array = np.array(img)\n",
        "\n",
        "        plt.imshow(img_array, cmap='gray')\n",
        "        plt.title(f\"TIFF Image: {filename}\")\n",
        "        plt.axis('off')\n",
        "        plt.show()\n",
        "\n",
        "display_random_tif_images(test_lungCancer_dir, num_images=3)"
      ],
      "metadata": {
        "colab": {
          "base_uri": "https://localhost:8080/",
          "height": 1000
        },
        "id": "d8Bi-pDOHmcK",
        "outputId": "85e9df24-c0a7-4783-bd69-036ad31ddb0f"
      },
      "execution_count": 6,
      "outputs": [
        {
          "output_type": "display_data",
          "data": {
            "text/plain": [
              "<Figure size 640x480 with 1 Axes>"
            ],
            "image/png": "[encoded data removed]"
          },
          "metadata": {}
        },
        {
          "output_type": "display_data",
          "data": {
            "text/plain": [
              "<Figure size 640x480 with 1 Axes>"
            ],
            "image/png": "[encoded data removed]"
          },
          "metadata": {}
        },
        {
          "output_type": "display_data",
          "data": {
            "text/plain": [
              "<Figure size 640x480 with 1 Axes>"
            ],
            "image/png": "[encoded data removed]"
          },
          "metadata": {}
        }
      ]
    },
    {
      "cell_type": "markdown",
      "source": [
        "#**Data generation**"
      ],
      "metadata": {
        "id": "q8-4AvsuH86s"
      }
    },
    {
      "cell_type": "code",
      "source": [
        "BATCH_SIZE= 80\n",
        "image_height, image_width = 144, 144\n",
        "train_datagen = ImageDataGenerator(rescale=1.0/255.0,\n",
        "                                  rotation_range= 5,\n",
        "                                  width_shift_range=0.1,\n",
        "                                  height_shift_range=0.1,\n",
        "                                  zoom_range=0.05,\n",
        "                                  fill_mode='nearest')\n",
        "\n",
        "train_generator = train_datagen.flow_from_directory(\n",
        "        training_set_dir,\n",
        "        target_size=(image_height, image_width),\n",
        "        batch_size=BATCH_SIZE,\n",
        "        class_mode='binary',\n",
        "        shuffle = True)\n",
        "\n",
        "\n",
        "test_datagen = ImageDataGenerator(rescale=1.0/255.0)\n",
        "\n",
        "test_generator = test_datagen.flow_from_directory(\n",
        "        test_set_dir,\n",
        "        target_size=(image_height, image_width),\n",
        "        batch_size=10,\n",
        "        class_mode='binary')"
      ],
      "metadata": {
        "id": "-iW1zg8sID9y"
      },
      "execution_count": null,
      "outputs": []
    },
    {
      "cell_type": "markdown",
      "source": [
        "#**Defining model**"
      ],
      "metadata": {
        "id": "Yin92zmlIOT-"
      }
    },
    {
      "cell_type": "code",
      "source": [
        "pre_trained_model = VGG19(include_top=False,\n",
        "                                        weights= 'imagenet',\n",
        "                                        input_shape = (image_height, image_width, 3))\n",
        "\n",
        "for layer in pre_trained_model.layers:\n",
        "  layer.trainable = True"
      ],
      "metadata": {
        "id": "yNcGHdO5IQjo",
        "colab": {
          "base_uri": "https://localhost:8080/"
        },
        "outputId": "7b1754c8-0e1c-41b9-d2f6-e9192d1f44b8"
      },
      "execution_count": 9,
      "outputs": [
        {
          "output_type": "stream",
          "name": "stdout",
          "text": [
            "Downloading data from https://storage.googleapis.com/tensorflow/keras-applications/vgg19/vgg19_weights_tf_dim_ordering_tf_kernels_notop.h5\n",
            "80134624/80134624 [==============================] - 0s 0us/step\n"
          ]
        }
      ]
    },
    {
      "cell_type": "code",
      "source": [
        "pre_trained_model.summary()"
      ],
      "metadata": {
        "id": "LqGL8CG-Idbz",
        "colab": {
          "base_uri": "https://localhost:8080/"
        },
        "outputId": "73efc2ad-d273-49ba-ed17-945b3dac647e"
      },
      "execution_count": 10,
      "outputs": [
        {
          "output_type": "stream",
          "name": "stdout",
          "text": [
            "Model: \"vgg19\"\n",
            "_________________________________________________________________\n",
            " Layer (type)                Output Shape              Param #   \n",
            "=================================================================\n",
            " input_1 (InputLayer)        [(None, 144, 144, 3)]     0         \n",
            "                                                                 \n",
            " block1_conv1 (Conv2D)       (None, 144, 144, 64)      1792      \n",
            "                                                                 \n",
            " block1_conv2 (Conv2D)       (None, 144, 144, 64)      36928     \n",
            "                                                                 \n",
            " block1_pool (MaxPooling2D)  (None, 72, 72, 64)        0         \n",
            "                                                                 \n",
            " block2_conv1 (Conv2D)       (None, 72, 72, 128)       73856     \n",
            "                                                                 \n",
            " block2_conv2 (Conv2D)       (None, 72, 72, 128)       147584    \n",
            "                                                                 \n",
            " block2_pool (MaxPooling2D)  (None, 36, 36, 128)       0         \n",
            "                                                                 \n",
            " block3_conv1 (Conv2D)       (None, 36, 36, 256)       295168    \n",
            "                                                                 \n",
            " block3_conv2 (Conv2D)       (None, 36, 36, 256)       590080    \n",
            "                                                                 \n",
            " block3_conv3 (Conv2D)       (None, 36, 36, 256)       590080    \n",
            "                                                                 \n",
            " block3_conv4 (Conv2D)       (None, 36, 36, 256)       590080    \n",
            "                                                                 \n",
            " block3_pool (MaxPooling2D)  (None, 18, 18, 256)       0         \n",
            "                                                                 \n",
            " block4_conv1 (Conv2D)       (None, 18, 18, 512)       1180160   \n",
            "                                                                 \n",
            " block4_conv2 (Conv2D)       (None, 18, 18, 512)       2359808   \n",
            "                                                                 \n",
            " block4_conv3 (Conv2D)       (None, 18, 18, 512)       2359808   \n",
            "                                                                 \n",
            " block4_conv4 (Conv2D)       (None, 18, 18, 512)       2359808   \n",
            "                                                                 \n",
            " block4_pool (MaxPooling2D)  (None, 9, 9, 512)         0         \n",
            "                                                                 \n",
            " block5_conv1 (Conv2D)       (None, 9, 9, 512)         2359808   \n",
            "                                                                 \n",
            " block5_conv2 (Conv2D)       (None, 9, 9, 512)         2359808   \n",
            "                                                                 \n",
            " block5_conv3 (Conv2D)       (None, 9, 9, 512)         2359808   \n",
            "                                                                 \n",
            " block5_conv4 (Conv2D)       (None, 9, 9, 512)         2359808   \n",
            "                                                                 \n",
            " block5_pool (MaxPooling2D)  (None, 4, 4, 512)         0         \n",
            "                                                                 \n",
            "=================================================================\n",
            "Total params: 20,024,384\n",
            "Trainable params: 20,024,384\n",
            "Non-trainable params: 0\n",
            "_________________________________________________________________\n"
          ]
        }
      ]
    },
    {
      "cell_type": "code",
      "source": [
        "last_layer = pre_trained_model.get_layer('block5_pool')\n",
        "print('last layer output shape: ', last_layer.output_shape)\n",
        "last_output = last_layer.output\n",
        "\n",
        "x = layers.Flatten()(last_output)\n",
        "# x = layers.Dense(1024, activation='relu')(x)\n",
        "# x = layers.Dense(512, activation='relu')(x)\n",
        "x = layers.Dense(256, activation='relu')(x)\n",
        "x = layers.Dense(128, activation='relu')(x)\n",
        "x = layers.Dense(64, activation='relu')(x)\n",
        "x = layers.Dense(32, activation='relu')(x)\n",
        "x = layers.Dense(1)(x)\n",
        "x = layers.Activation(tf.nn.sigmoid)(x)\n",
        "\n",
        "model = Model(pre_trained_model.input, x)"
      ],
      "metadata": {
        "colab": {
          "base_uri": "https://localhost:8080/"
        },
        "id": "YqiVGj5rIjlT",
        "outputId": "b21f4052-9552-450c-c356-4e2b614c740c"
      },
      "execution_count": 11,
      "outputs": [
        {
          "output_type": "stream",
          "name": "stdout",
          "text": [
            "last layer output shape:  (None, 4, 4, 512)\n"
          ]
        }
      ]
    },
    {
      "cell_type": "code",
      "source": [
        "model.summary()"
      ],
      "metadata": {
        "id": "Z8upEfo5Ilcj",
        "colab": {
          "base_uri": "https://localhost:8080/"
        },
        "outputId": "fb93d440-f20d-4533-d7a6-0632888e036f"
      },
      "execution_count": 12,
      "outputs": [
        {
          "output_type": "stream",
          "name": "stdout",
          "text": [
            "Model: \"model\"\n",
            "_________________________________________________________________\n",
            " Layer (type)                Output Shape              Param #   \n",
            "=================================================================\n",
            " input_1 (InputLayer)        [(None, 144, 144, 3)]     0         \n",
            "                                                                 \n",
            " block1_conv1 (Conv2D)       (None, 144, 144, 64)      1792      \n",
            "                                                                 \n",
            " block1_conv2 (Conv2D)       (None, 144, 144, 64)      36928     \n",
            "                                                                 \n",
            " block1_pool (MaxPooling2D)  (None, 72, 72, 64)        0         \n",
            "                                                                 \n",
            " block2_conv1 (Conv2D)       (None, 72, 72, 128)       73856     \n",
            "                                                                 \n",
            " block2_conv2 (Conv2D)       (None, 72, 72, 128)       147584    \n",
            "                                                                 \n",
            " block2_pool (MaxPooling2D)  (None, 36, 36, 128)       0         \n",
            "                                                                 \n",
            " block3_conv1 (Conv2D)       (None, 36, 36, 256)       295168    \n",
            "                                                                 \n",
            " block3_conv2 (Conv2D)       (None, 36, 36, 256)       590080    \n",
            "                                                                 \n",
            " block3_conv3 (Conv2D)       (None, 36, 36, 256)       590080    \n",
            "                                                                 \n",
            " block3_conv4 (Conv2D)       (None, 36, 36, 256)       590080    \n",
            "                                                                 \n",
            " block3_pool (MaxPooling2D)  (None, 18, 18, 256)       0         \n",
            "                                                                 \n",
            " block4_conv1 (Conv2D)       (None, 18, 18, 512)       1180160   \n",
            "                                                                 \n",
            " block4_conv2 (Conv2D)       (None, 18, 18, 512)       2359808   \n",
            "                                                                 \n",
            " block4_conv3 (Conv2D)       (None, 18, 18, 512)       2359808   \n",
            "                                                                 \n",
            " block4_conv4 (Conv2D)       (None, 18, 18, 512)       2359808   \n",
            "                                                                 \n",
            " block4_pool (MaxPooling2D)  (None, 9, 9, 512)         0         \n",
            "                                                                 \n",
            " block5_conv1 (Conv2D)       (None, 9, 9, 512)         2359808   \n",
            "                                                                 \n",
            " block5_conv2 (Conv2D)       (None, 9, 9, 512)         2359808   \n",
            "                                                                 \n",
            " block5_conv3 (Conv2D)       (None, 9, 9, 512)         2359808   \n",
            "                                                                 \n",
            " block5_conv4 (Conv2D)       (None, 9, 9, 512)         2359808   \n",
            "                                                                 \n",
            " block5_pool (MaxPooling2D)  (None, 4, 4, 512)         0         \n",
            "                                                                 \n",
            " flatten (Flatten)           (None, 8192)              0         \n",
            "                                                                 \n",
            " dense (Dense)               (None, 256)               2097408   \n",
            "                                                                 \n",
            " dense_1 (Dense)             (None, 128)               32896     \n",
            "                                                                 \n",
            " dense_2 (Dense)             (None, 64)                8256      \n",
            "                                                                 \n",
            " dense_3 (Dense)             (None, 32)                2080      \n",
            "                                                                 \n",
            " dense_4 (Dense)             (None, 1)                 33        \n",
            "                                                                 \n",
            " activation (Activation)     (None, 1)                 0         \n",
            "                                                                 \n",
            "=================================================================\n",
            "Total params: 22,165,057\n",
            "Trainable params: 22,165,057\n",
            "Non-trainable params: 0\n",
            "_________________________________________________________________\n"
          ]
        }
      ]
    },
    {
      "cell_type": "code",
      "source": [
        "savingPath = os.makedirs('/content/sample_data/temporaryWeights')\n",
        "checkpoint_path = '/content/sample_data/temporaryWeights'\n",
        "checkpoint_dir = os.path.dirname(checkpoint_path)\n",
        "print(checkpoint_path)\n",
        "cp_callback = tf.keras.callbacks.ModelCheckpoint(checkpoint_path, save_weights_only=True, save_best_only=True, verbose= 1)"
      ],
      "metadata": {
        "colab": {
          "base_uri": "https://localhost:8080/"
        },
        "id": "HL65B2XgI5sR",
        "outputId": "5e91df4c-e553-4f53-c6a7-6970e49465b9"
      },
      "execution_count": 13,
      "outputs": [
        {
          "output_type": "stream",
          "name": "stdout",
          "text": [
            "/content/sample_data/temporaryWeights\n"
          ]
        }
      ]
    },
    {
      "cell_type": "code",
      "source": [
        "model.compile(optimizer=tf.keras.optimizers.SGD(learning_rate= 0.001), loss= 'binary_crossentropy',\n",
        "              metrics= [tf.keras.metrics.BinaryAccuracy(name=\"Binary_accuracy\"),\n",
        "                        tf.keras.metrics.Precision(name='Precision'),\n",
        "                        tf.keras.metrics.Recall(name='Recall'),\n",
        "                        tf.keras.metrics.TruePositives(name='TP'),\n",
        "                        tf.keras.metrics.TrueNegatives(name='TN'),\n",
        "                        tf.keras.metrics.FalseNegatives(name='FN'),\n",
        "                        tf.keras.metrics.FalsePositives(name='FP'),\n",
        "                        tf.keras.metrics.AUC(name='AUC')])"
      ],
      "metadata": {
        "id": "G3oAzLjsIrMp"
      },
      "execution_count": 15,
      "outputs": []
    },
    {
      "cell_type": "code",
      "source": [
        "history = model.fit(\n",
        "            train_generator,\n",
        "            validation_data = test_generator,\n",
        "            epochs = 30,\n",
        "            verbose = 1,\n",
        "            callbacks = [cp_callback])"
      ],
      "metadata": {
        "colab": {
          "base_uri": "https://localhost:8080/"
        },
        "id": "aaxD8LB5ItVk",
        "outputId": "61227756-2082-455d-dd58-474a0ca2e5cf"
      },
      "execution_count": 16,
      "outputs": [
        {
          "output_type": "stream",
          "name": "stdout",
          "text": [
            "Epoch 1/30\n",
            "21/21 [==============================] - ETA: 0s - loss: 0.6889 - Binary_accuracy: 0.5302 - Precision: 0.7475 - Recall: 0.0912 - TP: 74.0000 - TN: 786.0000 - FN: 737.0000 - FP: 25.0000 - AUC: 0.5973\n",
            "Epoch 1: val_loss improved from inf to 0.68524, saving model to /content/sample_data/temporaryWeights\n",
            "21/21 [==============================] - 131s 6s/step - loss: 0.6889 - Binary_accuracy: 0.5302 - Precision: 0.7475 - Recall: 0.0912 - TP: 74.0000 - TN: 786.0000 - FN: 737.0000 - FP: 25.0000 - AUC: 0.5973 - val_loss: 0.6852 - val_Binary_accuracy: 0.5816 - val_Precision: 0.6731 - val_Recall: 0.3500 - val_TP: 70.0000 - val_TN: 158.0000 - val_FN: 130.0000 - val_FP: 34.0000 - val_AUC: 0.6617\n",
            "Epoch 2/30\n",
            "21/21 [==============================] - ETA: 0s - loss: 0.6835 - Binary_accuracy: 0.5740 - Precision: 0.6676 - Recall: 0.2947 - TP: 239.0000 - TN: 692.0000 - FN: 572.0000 - FP: 119.0000 - AUC: 0.6192\n",
            "Epoch 2: val_loss improved from 0.68524 to 0.68415, saving model to /content/sample_data/temporaryWeights\n",
            "21/21 [==============================] - 17s 813ms/step - loss: 0.6835 - Binary_accuracy: 0.5740 - Precision: 0.6676 - Recall: 0.2947 - TP: 239.0000 - TN: 692.0000 - FN: 572.0000 - FP: 119.0000 - AUC: 0.6192 - val_loss: 0.6842 - val_Binary_accuracy: 0.6224 - val_Precision: 0.6048 - val_Recall: 0.7500 - val_TP: 150.0000 - val_TN: 94.0000 - val_FN: 50.0000 - val_FP: 98.0000 - val_AUC: 0.6538\n",
            "Epoch 3/30\n",
            "21/21 [==============================] - ETA: 0s - loss: 0.6747 - Binary_accuracy: 0.6208 - Precision: 0.6863 - Recall: 0.4451 - TP: 361.0000 - TN: 646.0000 - FN: 450.0000 - FP: 165.0000 - AUC: 0.6810\n",
            "Epoch 3: val_loss improved from 0.68415 to 0.68169, saving model to /content/sample_data/temporaryWeights\n",
            "21/21 [==============================] - 20s 953ms/step - loss: 0.6747 - Binary_accuracy: 0.6208 - Precision: 0.6863 - Recall: 0.4451 - TP: 361.0000 - TN: 646.0000 - FN: 450.0000 - FP: 165.0000 - AUC: 0.6810 - val_loss: 0.6817 - val_Binary_accuracy: 0.6327 - val_Precision: 0.6077 - val_Recall: 0.7900 - val_TP: 158.0000 - val_TN: 90.0000 - val_FN: 42.0000 - val_FP: 102.0000 - val_AUC: 0.6549\n",
            "Epoch 4/30\n",
            "21/21 [==============================] - ETA: 0s - loss: 0.6679 - Binary_accuracy: 0.6609 - Precision: 0.7343 - Recall: 0.5043 - TP: 409.0000 - TN: 663.0000 - FN: 402.0000 - FP: 148.0000 - AUC: 0.7138\n",
            "Epoch 4: val_loss improved from 0.68169 to 0.67645, saving model to /content/sample_data/temporaryWeights\n",
            "21/21 [==============================] - 18s 858ms/step - loss: 0.6679 - Binary_accuracy: 0.6609 - Precision: 0.7343 - Recall: 0.5043 - TP: 409.0000 - TN: 663.0000 - FN: 402.0000 - FP: 148.0000 - AUC: 0.7138 - val_loss: 0.6765 - val_Binary_accuracy: 0.6556 - val_Precision: 0.6512 - val_Recall: 0.7000 - val_TP: 140.0000 - val_TN: 117.0000 - val_FN: 60.0000 - val_FP: 75.0000 - val_AUC: 0.6567\n",
            "Epoch 5/30\n",
            "21/21 [==============================] - ETA: 0s - loss: 0.6516 - Binary_accuracy: 0.6856 - Precision: 0.7722 - Recall: 0.5265 - TP: 427.0000 - TN: 685.0000 - FN: 384.0000 - FP: 126.0000 - AUC: 0.7423\n",
            "Epoch 5: val_loss improved from 0.67645 to 0.66834, saving model to /content/sample_data/temporaryWeights\n",
            "21/21 [==============================] - 18s 835ms/step - loss: 0.6516 - Binary_accuracy: 0.6856 - Precision: 0.7722 - Recall: 0.5265 - TP: 427.0000 - TN: 685.0000 - FN: 384.0000 - FP: 126.0000 - AUC: 0.7423 - val_loss: 0.6683 - val_Binary_accuracy: 0.6454 - val_Precision: 0.6020 - val_Recall: 0.9000 - val_TP: 180.0000 - val_TN: 73.0000 - val_FN: 20.0000 - val_FP: 119.0000 - val_AUC: 0.6816\n",
            "Epoch 6/30\n",
            "21/21 [==============================] - ETA: 0s - loss: 0.6373 - Binary_accuracy: 0.7016 - Precision: 0.7429 - Recall: 0.6165 - TP: 500.0000 - TN: 638.0000 - FN: 311.0000 - FP: 173.0000 - AUC: 0.7525\n",
            "Epoch 6: val_loss improved from 0.66834 to 0.65587, saving model to /content/sample_data/temporaryWeights\n",
            "21/21 [==============================] - 19s 911ms/step - loss: 0.6373 - Binary_accuracy: 0.7016 - Precision: 0.7429 - Recall: 0.6165 - TP: 500.0000 - TN: 638.0000 - FN: 311.0000 - FP: 173.0000 - AUC: 0.7525 - val_loss: 0.6559 - val_Binary_accuracy: 0.6760 - val_Precision: 0.6780 - val_Recall: 0.6950 - val_TP: 139.0000 - val_TN: 126.0000 - val_FN: 61.0000 - val_FP: 66.0000 - val_AUC: 0.6949\n",
            "Epoch 7/30\n",
            "21/21 [==============================] - ETA: 0s - loss: 0.6201 - Binary_accuracy: 0.6985 - Precision: 0.7462 - Recall: 0.6017 - TP: 488.0000 - TN: 645.0000 - FN: 323.0000 - FP: 166.0000 - AUC: 0.7618\n",
            "Epoch 7: val_loss improved from 0.65587 to 0.64861, saving model to /content/sample_data/temporaryWeights\n",
            "21/21 [==============================] - 18s 826ms/step - loss: 0.6201 - Binary_accuracy: 0.6985 - Precision: 0.7462 - Recall: 0.6017 - TP: 488.0000 - TN: 645.0000 - FN: 323.0000 - FP: 166.0000 - AUC: 0.7618 - val_loss: 0.6486 - val_Binary_accuracy: 0.6888 - val_Precision: 0.6383 - val_Recall: 0.9000 - val_TP: 180.0000 - val_TN: 90.0000 - val_FN: 20.0000 - val_FP: 102.0000 - val_AUC: 0.7094\n",
            "Epoch 8/30\n",
            "21/21 [==============================] - ETA: 0s - loss: 0.5892 - Binary_accuracy: 0.7244 - Precision: 0.7645 - Recall: 0.6486 - TP: 526.0000 - TN: 649.0000 - FN: 285.0000 - FP: 162.0000 - AUC: 0.7925\n",
            "Epoch 8: val_loss improved from 0.64861 to 0.62933, saving model to /content/sample_data/temporaryWeights\n",
            "21/21 [==============================] - 18s 828ms/step - loss: 0.5892 - Binary_accuracy: 0.7244 - Precision: 0.7645 - Recall: 0.6486 - TP: 526.0000 - TN: 649.0000 - FN: 285.0000 - FP: 162.0000 - AUC: 0.7925 - val_loss: 0.6293 - val_Binary_accuracy: 0.7194 - val_Precision: 0.6860 - val_Recall: 0.8300 - val_TP: 166.0000 - val_TN: 116.0000 - val_FN: 34.0000 - val_FP: 76.0000 - val_AUC: 0.7145\n",
            "Epoch 9/30\n",
            "21/21 [==============================] - ETA: 0s - loss: 0.5583 - Binary_accuracy: 0.7435 - Precision: 0.7858 - Recall: 0.6695 - TP: 543.0000 - TN: 663.0000 - FN: 268.0000 - FP: 148.0000 - AUC: 0.8156\n",
            "Epoch 9: val_loss improved from 0.62933 to 0.62599, saving model to /content/sample_data/temporaryWeights\n",
            "21/21 [==============================] - 20s 955ms/step - loss: 0.5583 - Binary_accuracy: 0.7435 - Precision: 0.7858 - Recall: 0.6695 - TP: 543.0000 - TN: 663.0000 - FN: 268.0000 - FP: 148.0000 - AUC: 0.8156 - val_loss: 0.6260 - val_Binary_accuracy: 0.7015 - val_Precision: 0.6509 - val_Recall: 0.8950 - val_TP: 179.0000 - val_TN: 96.0000 - val_FN: 21.0000 - val_FP: 96.0000 - val_AUC: 0.7285\n",
            "Epoch 10/30\n",
            "21/21 [==============================] - ETA: 0s - loss: 0.5441 - Binary_accuracy: 0.7374 - Precision: 0.7700 - Recall: 0.6769 - TP: 549.0000 - TN: 647.0000 - FN: 262.0000 - FP: 164.0000 - AUC: 0.8173\n",
            "Epoch 10: val_loss did not improve from 0.62599\n",
            "21/21 [==============================] - 18s 808ms/step - loss: 0.5441 - Binary_accuracy: 0.7374 - Precision: 0.7700 - Recall: 0.6769 - TP: 549.0000 - TN: 647.0000 - FN: 262.0000 - FP: 164.0000 - AUC: 0.8173 - val_loss: 0.6765 - val_Binary_accuracy: 0.6301 - val_Precision: 0.7099 - val_Recall: 0.4650 - val_TP: 93.0000 - val_TN: 154.0000 - val_FN: 107.0000 - val_FP: 38.0000 - val_AUC: 0.7078\n",
            "Epoch 11/30\n",
            "21/21 [==============================] - ETA: 0s - loss: 0.5563 - Binary_accuracy: 0.7145 - Precision: 0.7345 - Recall: 0.6720 - TP: 545.0000 - TN: 614.0000 - FN: 266.0000 - FP: 197.0000 - AUC: 0.7890\n",
            "Epoch 11: val_loss improved from 0.62599 to 0.62374, saving model to /content/sample_data/temporaryWeights\n",
            "21/21 [==============================] - 18s 826ms/step - loss: 0.5563 - Binary_accuracy: 0.7145 - Precision: 0.7345 - Recall: 0.6720 - TP: 545.0000 - TN: 614.0000 - FN: 266.0000 - FP: 197.0000 - AUC: 0.7890 - val_loss: 0.6237 - val_Binary_accuracy: 0.7092 - val_Precision: 0.6734 - val_Recall: 0.8350 - val_TP: 167.0000 - val_TN: 111.0000 - val_FN: 33.0000 - val_FP: 81.0000 - val_AUC: 0.7272\n",
            "Epoch 12/30\n",
            "21/21 [==============================] - ETA: 0s - loss: 0.5240 - Binary_accuracy: 0.7596 - Precision: 0.7781 - Recall: 0.7263 - TP: 589.0000 - TN: 643.0000 - FN: 222.0000 - FP: 168.0000 - AUC: 0.8231\n",
            "Epoch 12: val_loss did not improve from 0.62374\n",
            "21/21 [==============================] - 19s 862ms/step - loss: 0.5240 - Binary_accuracy: 0.7596 - Precision: 0.7781 - Recall: 0.7263 - TP: 589.0000 - TN: 643.0000 - FN: 222.0000 - FP: 168.0000 - AUC: 0.8231 - val_loss: 0.6271 - val_Binary_accuracy: 0.6888 - val_Precision: 0.6840 - val_Recall: 0.7250 - val_TP: 145.0000 - val_TN: 125.0000 - val_FN: 55.0000 - val_FP: 67.0000 - val_AUC: 0.7229\n",
            "Epoch 13/30\n",
            "21/21 [==============================] - ETA: 0s - loss: 0.5003 - Binary_accuracy: 0.7700 - Precision: 0.7944 - Recall: 0.7287 - TP: 591.0000 - TN: 658.0000 - FN: 220.0000 - FP: 153.0000 - AUC: 0.8408\n",
            "Epoch 13: val_loss did not improve from 0.62374\n",
            "21/21 [==============================] - 17s 839ms/step - loss: 0.5003 - Binary_accuracy: 0.7700 - Precision: 0.7944 - Recall: 0.7287 - TP: 591.0000 - TN: 658.0000 - FN: 220.0000 - FP: 153.0000 - AUC: 0.8408 - val_loss: 0.6396 - val_Binary_accuracy: 0.6939 - val_Precision: 0.6739 - val_Recall: 0.7750 - val_TP: 155.0000 - val_TN: 117.0000 - val_FN: 45.0000 - val_FP: 75.0000 - val_AUC: 0.7213\n",
            "Epoch 14/30\n",
            "21/21 [==============================] - ETA: 0s - loss: 0.5291 - Binary_accuracy: 0.7466 - Precision: 0.7710 - Recall: 0.7016 - TP: 569.0000 - TN: 642.0000 - FN: 242.0000 - FP: 169.0000 - AUC: 0.8119\n",
            "Epoch 14: val_loss did not improve from 0.62374\n",
            "21/21 [==============================] - 17s 793ms/step - loss: 0.5291 - Binary_accuracy: 0.7466 - Precision: 0.7710 - Recall: 0.7016 - TP: 569.0000 - TN: 642.0000 - FN: 242.0000 - FP: 169.0000 - AUC: 0.8119 - val_loss: 0.6382 - val_Binary_accuracy: 0.7015 - val_Precision: 0.6766 - val_Recall: 0.7950 - val_TP: 159.0000 - val_TN: 116.0000 - val_FN: 41.0000 - val_FP: 76.0000 - val_AUC: 0.7272\n",
            "Epoch 15/30\n",
            "21/21 [==============================] - ETA: 0s - loss: 0.4987 - Binary_accuracy: 0.7670 - Precision: 0.7868 - Recall: 0.7324 - TP: 594.0000 - TN: 650.0000 - FN: 217.0000 - FP: 161.0000 - AUC: 0.8370\n",
            "Epoch 15: val_loss did not improve from 0.62374\n",
            "21/21 [==============================] - 17s 800ms/step - loss: 0.4987 - Binary_accuracy: 0.7670 - Precision: 0.7868 - Recall: 0.7324 - TP: 594.0000 - TN: 650.0000 - FN: 217.0000 - FP: 161.0000 - AUC: 0.8370 - val_loss: 0.8124 - val_Binary_accuracy: 0.6250 - val_Precision: 0.7190 - val_Recall: 0.4350 - val_TP: 87.0000 - val_TN: 158.0000 - val_FN: 113.0000 - val_FP: 34.0000 - val_AUC: 0.6933\n",
            "Epoch 16/30\n",
            "21/21 [==============================] - ETA: 0s - loss: 0.5036 - Binary_accuracy: 0.7589 - Precision: 0.7800 - Recall: 0.7213 - TP: 585.0000 - TN: 646.0000 - FN: 226.0000 - FP: 165.0000 - AUC: 0.8343\n",
            "Epoch 16: val_loss did not improve from 0.62374\n",
            "21/21 [==============================] - 19s 907ms/step - loss: 0.5036 - Binary_accuracy: 0.7589 - Precision: 0.7800 - Recall: 0.7213 - TP: 585.0000 - TN: 646.0000 - FN: 226.0000 - FP: 165.0000 - AUC: 0.8343 - val_loss: 0.6686 - val_Binary_accuracy: 0.6811 - val_Precision: 0.7219 - val_Recall: 0.6100 - val_TP: 122.0000 - val_TN: 145.0000 - val_FN: 78.0000 - val_FP: 47.0000 - val_AUC: 0.7238\n",
            "Epoch 17/30\n",
            "21/21 [==============================] - ETA: 0s - loss: 0.4753 - Binary_accuracy: 0.7737 - Precision: 0.7976 - Recall: 0.7337 - TP: 595.0000 - TN: 660.0000 - FN: 216.0000 - FP: 151.0000 - AUC: 0.8580\n",
            "Epoch 17: val_loss did not improve from 0.62374\n",
            "21/21 [==============================] - 18s 825ms/step - loss: 0.4753 - Binary_accuracy: 0.7737 - Precision: 0.7976 - Recall: 0.7337 - TP: 595.0000 - TN: 660.0000 - FN: 216.0000 - FP: 151.0000 - AUC: 0.8580 - val_loss: 0.7895 - val_Binary_accuracy: 0.6429 - val_Precision: 0.7308 - val_Recall: 0.4750 - val_TP: 95.0000 - val_TN: 157.0000 - val_FN: 105.0000 - val_FP: 35.0000 - val_AUC: 0.7081\n",
            "Epoch 18/30\n",
            "21/21 [==============================] - ETA: 0s - loss: 0.4873 - Binary_accuracy: 0.7645 - Precision: 0.7864 - Recall: 0.7263 - TP: 589.0000 - TN: 651.0000 - FN: 222.0000 - FP: 160.0000 - AUC: 0.8454\n",
            "Epoch 18: val_loss did not improve from 0.62374\n",
            "21/21 [==============================] - 17s 798ms/step - loss: 0.4873 - Binary_accuracy: 0.7645 - Precision: 0.7864 - Recall: 0.7263 - TP: 589.0000 - TN: 651.0000 - FN: 222.0000 - FP: 160.0000 - AUC: 0.8454 - val_loss: 0.6866 - val_Binary_accuracy: 0.6786 - val_Precision: 0.7202 - val_Recall: 0.6050 - val_TP: 121.0000 - val_TN: 145.0000 - val_FN: 79.0000 - val_FP: 47.0000 - val_AUC: 0.7140\n",
            "Epoch 19/30\n",
            "21/21 [==============================] - ETA: 0s - loss: 0.4550 - Binary_accuracy: 0.7990 - Precision: 0.8178 - Recall: 0.7694 - TP: 624.0000 - TN: 672.0000 - FN: 187.0000 - FP: 139.0000 - AUC: 0.8711\n",
            "Epoch 19: val_loss did not improve from 0.62374\n",
            "21/21 [==============================] - 20s 946ms/step - loss: 0.4550 - Binary_accuracy: 0.7990 - Precision: 0.8178 - Recall: 0.7694 - TP: 624.0000 - TN: 672.0000 - FN: 187.0000 - FP: 139.0000 - AUC: 0.8711 - val_loss: 0.8240 - val_Binary_accuracy: 0.6403 - val_Precision: 0.7287 - val_Recall: 0.4700 - val_TP: 94.0000 - val_TN: 157.0000 - val_FN: 106.0000 - val_FP: 35.0000 - val_AUC: 0.6993\n",
            "Epoch 20/30\n",
            "21/21 [==============================] - ETA: 0s - loss: 0.4422 - Binary_accuracy: 0.8009 - Precision: 0.8194 - Recall: 0.7719 - TP: 626.0000 - TN: 673.0000 - FN: 185.0000 - FP: 138.0000 - AUC: 0.8772\n",
            "Epoch 20: val_loss did not improve from 0.62374\n",
            "21/21 [==============================] - 18s 865ms/step - loss: 0.4422 - Binary_accuracy: 0.8009 - Precision: 0.8194 - Recall: 0.7719 - TP: 626.0000 - TN: 673.0000 - FN: 185.0000 - FP: 138.0000 - AUC: 0.8772 - val_loss: 0.6827 - val_Binary_accuracy: 0.7015 - val_Precision: 0.7173 - val_Recall: 0.6850 - val_TP: 137.0000 - val_TN: 138.0000 - val_FN: 63.0000 - val_FP: 54.0000 - val_AUC: 0.7243\n",
            "Epoch 21/30\n",
            "21/21 [==============================] - ETA: 0s - loss: 0.4576 - Binary_accuracy: 0.7873 - Precision: 0.8050 - Recall: 0.7583 - TP: 615.0000 - TN: 662.0000 - FN: 196.0000 - FP: 149.0000 - AUC: 0.8674\n",
            "Epoch 21: val_loss did not improve from 0.62374\n",
            "21/21 [==============================] - 18s 828ms/step - loss: 0.4576 - Binary_accuracy: 0.7873 - Precision: 0.8050 - Recall: 0.7583 - TP: 615.0000 - TN: 662.0000 - FN: 196.0000 - FP: 149.0000 - AUC: 0.8674 - val_loss: 0.7649 - val_Binary_accuracy: 0.6658 - val_Precision: 0.7482 - val_Recall: 0.5200 - val_TP: 104.0000 - val_TN: 157.0000 - val_FN: 96.0000 - val_FP: 35.0000 - val_AUC: 0.7081\n",
            "Epoch 22/30\n",
            "21/21 [==============================] - ETA: 0s - loss: 0.4220 - Binary_accuracy: 0.8218 - Precision: 0.8372 - Recall: 0.7990 - TP: 648.0000 - TN: 685.0000 - FN: 163.0000 - FP: 126.0000 - AUC: 0.8931\n",
            "Epoch 22: val_loss did not improve from 0.62374\n",
            "21/21 [==============================] - 19s 899ms/step - loss: 0.4220 - Binary_accuracy: 0.8218 - Precision: 0.8372 - Recall: 0.7990 - TP: 648.0000 - TN: 685.0000 - FN: 163.0000 - FP: 126.0000 - AUC: 0.8931 - val_loss: 0.7580 - val_Binary_accuracy: 0.6888 - val_Precision: 0.7500 - val_Recall: 0.5850 - val_TP: 117.0000 - val_TN: 153.0000 - val_FN: 83.0000 - val_FP: 39.0000 - val_AUC: 0.7291\n",
            "Epoch 23/30\n",
            "21/21 [==============================] - ETA: 0s - loss: 0.4310 - Binary_accuracy: 0.8058 - Precision: 0.8221 - Recall: 0.7805 - TP: 633.0000 - TN: 674.0000 - FN: 178.0000 - FP: 137.0000 - AUC: 0.8842\n",
            "Epoch 23: val_loss did not improve from 0.62374\n",
            "21/21 [==============================] - 18s 844ms/step - loss: 0.4310 - Binary_accuracy: 0.8058 - Precision: 0.8221 - Recall: 0.7805 - TP: 633.0000 - TN: 674.0000 - FN: 178.0000 - FP: 137.0000 - AUC: 0.8842 - val_loss: 0.6776 - val_Binary_accuracy: 0.7194 - val_Precision: 0.7103 - val_Recall: 0.7600 - val_TP: 152.0000 - val_TN: 130.0000 - val_FN: 48.0000 - val_FP: 62.0000 - val_AUC: 0.7382\n",
            "Epoch 24/30\n",
            "21/21 [==============================] - ETA: 0s - loss: 0.4416 - Binary_accuracy: 0.8009 - Precision: 0.8245 - Recall: 0.7645 - TP: 620.0000 - TN: 679.0000 - FN: 191.0000 - FP: 132.0000 - AUC: 0.8757\n",
            "Epoch 24: val_loss did not improve from 0.62374\n",
            "21/21 [==============================] - 17s 805ms/step - loss: 0.4416 - Binary_accuracy: 0.8009 - Precision: 0.8245 - Recall: 0.7645 - TP: 620.0000 - TN: 679.0000 - FN: 191.0000 - FP: 132.0000 - AUC: 0.8757 - val_loss: 0.6772 - val_Binary_accuracy: 0.7194 - val_Precision: 0.7419 - val_Recall: 0.6900 - val_TP: 138.0000 - val_TN: 144.0000 - val_FN: 62.0000 - val_FP: 48.0000 - val_AUC: 0.7469\n",
            "Epoch 25/30\n",
            "21/21 [==============================] - ETA: 0s - loss: 0.3973 - Binary_accuracy: 0.8187 - Precision: 0.8293 - Recall: 0.8027 - TP: 651.0000 - TN: 677.0000 - FN: 160.0000 - FP: 134.0000 - AUC: 0.9032\n",
            "Epoch 25: val_loss did not improve from 0.62374\n",
            "21/21 [==============================] - 17s 796ms/step - loss: 0.3973 - Binary_accuracy: 0.8187 - Precision: 0.8293 - Recall: 0.8027 - TP: 651.0000 - TN: 677.0000 - FN: 160.0000 - FP: 134.0000 - AUC: 0.9032 - val_loss: 0.7278 - val_Binary_accuracy: 0.7041 - val_Precision: 0.7360 - val_Recall: 0.6550 - val_TP: 131.0000 - val_TN: 145.0000 - val_FN: 69.0000 - val_FP: 47.0000 - val_AUC: 0.7324\n",
            "Epoch 26/30\n",
            "21/21 [==============================] - ETA: 0s - loss: 0.4558 - Binary_accuracy: 0.7922 - Precision: 0.8046 - Recall: 0.7719 - TP: 626.0000 - TN: 659.0000 - FN: 185.0000 - FP: 152.0000 - AUC: 0.8683\n",
            "Epoch 26: val_loss did not improve from 0.62374\n",
            "21/21 [==============================] - 19s 876ms/step - loss: 0.4558 - Binary_accuracy: 0.7922 - Precision: 0.8046 - Recall: 0.7719 - TP: 626.0000 - TN: 659.0000 - FN: 185.0000 - FP: 152.0000 - AUC: 0.8683 - val_loss: 0.6904 - val_Binary_accuracy: 0.6862 - val_Precision: 0.6954 - val_Recall: 0.6850 - val_TP: 137.0000 - val_TN: 132.0000 - val_FN: 63.0000 - val_FP: 60.0000 - val_AUC: 0.7169\n",
            "Epoch 27/30\n",
            "21/21 [==============================] - ETA: 0s - loss: 0.4123 - Binary_accuracy: 0.8157 - Precision: 0.8325 - Recall: 0.7904 - TP: 641.0000 - TN: 682.0000 - FN: 170.0000 - FP: 129.0000 - AUC: 0.8948\n",
            "Epoch 27: val_loss did not improve from 0.62374\n",
            "21/21 [==============================] - 17s 843ms/step - loss: 0.4123 - Binary_accuracy: 0.8157 - Precision: 0.8325 - Recall: 0.7904 - TP: 641.0000 - TN: 682.0000 - FN: 170.0000 - FP: 129.0000 - AUC: 0.8948 - val_loss: 0.7168 - val_Binary_accuracy: 0.6939 - val_Precision: 0.7083 - val_Recall: 0.6800 - val_TP: 136.0000 - val_TN: 136.0000 - val_FN: 64.0000 - val_FP: 56.0000 - val_AUC: 0.7167\n",
            "Epoch 28/30\n",
            "21/21 [==============================] - ETA: 0s - loss: 0.4093 - Binary_accuracy: 0.8187 - Precision: 0.8370 - Recall: 0.7916 - TP: 642.0000 - TN: 686.0000 - FN: 169.0000 - FP: 125.0000 - AUC: 0.8960\n",
            "Epoch 28: val_loss did not improve from 0.62374\n",
            "21/21 [==============================] - 17s 792ms/step - loss: 0.4093 - Binary_accuracy: 0.8187 - Precision: 0.8370 - Recall: 0.7916 - TP: 642.0000 - TN: 686.0000 - FN: 169.0000 - FP: 125.0000 - AUC: 0.8960 - val_loss: 0.7956 - val_Binary_accuracy: 0.6378 - val_Precision: 0.5948 - val_Recall: 0.9100 - val_TP: 182.0000 - val_TN: 68.0000 - val_FN: 18.0000 - val_FP: 124.0000 - val_AUC: 0.7353\n",
            "Epoch 29/30\n",
            "21/21 [==============================] - ETA: 0s - loss: 0.4369 - Binary_accuracy: 0.8144 - Precision: 0.8236 - Recall: 0.8002 - TP: 649.0000 - TN: 672.0000 - FN: 162.0000 - FP: 139.0000 - AUC: 0.8786\n",
            "Epoch 29: val_loss did not improve from 0.62374\n",
            "21/21 [==============================] - 20s 941ms/step - loss: 0.4369 - Binary_accuracy: 0.8144 - Precision: 0.8236 - Recall: 0.8002 - TP: 649.0000 - TN: 672.0000 - FN: 162.0000 - FP: 139.0000 - AUC: 0.8786 - val_loss: 0.6754 - val_Binary_accuracy: 0.7398 - val_Precision: 0.6992 - val_Recall: 0.8600 - val_TP: 172.0000 - val_TN: 118.0000 - val_FN: 28.0000 - val_FP: 74.0000 - val_AUC: 0.7500\n",
            "Epoch 30/30\n",
            "21/21 [==============================] - ETA: 0s - loss: 0.3865 - Binary_accuracy: 0.8372 - Precision: 0.8440 - Recall: 0.8274 - TP: 671.0000 - TN: 687.0000 - FN: 140.0000 - FP: 124.0000 - AUC: 0.9080\n",
            "Epoch 30: val_loss did not improve from 0.62374\n",
            "21/21 [==============================] - 18s 860ms/step - loss: 0.3865 - Binary_accuracy: 0.8372 - Precision: 0.8440 - Recall: 0.8274 - TP: 671.0000 - TN: 687.0000 - FN: 140.0000 - FP: 124.0000 - AUC: 0.9080 - val_loss: 0.7178 - val_Binary_accuracy: 0.7168 - val_Precision: 0.6745 - val_Recall: 0.8600 - val_TP: 172.0000 - val_TN: 109.0000 - val_FN: 28.0000 - val_FP: 83.0000 - val_AUC: 0.7319\n"
          ]
        }
      ]
    },
    {
      "cell_type": "markdown",
      "source": [
        "##**Plotting Loss and Accuracy**"
      ],
      "metadata": {
        "id": "gd-Nv2rPsIhR"
      }
    },
    {
      "cell_type": "code",
      "source": [
        "plt.plot(history.history['Binary_accuracy'], label='Train Accuracy')\n",
        "plt.plot(history.history['val_Binary_accuracy'], label='Test Accuracy')\n",
        "plt.xlabel('Epochs')\n",
        "plt.ylabel('Accuracy')\n",
        "plt.legend()\n",
        "plt.title('Train and Test Accuracy')\n",
        "plt.show()\n",
        "\n",
        "plt.plot(history.history['loss'], label='Train Loss')\n",
        "plt.plot(history.history['val_loss'], label='Test Loss')\n",
        "plt.xlabel('Epochs')\n",
        "plt.ylabel('Loss')\n",
        "plt.legend()\n",
        "plt.title('Train Loss and Test Loss')\n",
        "plt.show()"
      ],
      "metadata": {
        "id": "-CN6gTwesJGC"
      },
      "execution_count": null,
      "outputs": []
    }
  ]
}