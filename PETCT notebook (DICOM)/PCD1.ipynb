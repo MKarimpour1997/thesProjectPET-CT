{
  "nbformat": 4,
  "nbformat_minor": 0,
  "metadata": {
    "colab": {
      "provenance": [],
      "gpuType": "T4"
    },
    "kernelspec": {
      "name": "python3",
      "display_name": "Python 3"
    },
    "language_info": {
      "name": "python"
    },
    "accelerator": "GPU"
  },
  "cells": [
    {
      "cell_type": "code",
      "source": [
        "!pip install pydicom\n",
        "\n",
        "import tensorflow as tf\n",
        "import numpy as np\n",
        "import pandas as pd\n",
        "import seaborn as sns\n",
        "import matplotlib.pyplot as plt\n",
        "import os\n",
        "import keras\n",
        "import cv2\n",
        "import pickle\n",
        "import sklearn\n",
        "import pydicom\n",
        "import random\n",
        "\n",
        "from sklearn.metrics import auc, f1_score, roc_curve, recall_score, precision_score, accuracy_score, confusion_matrix\n",
        "from sklearn import metrics\n",
        "from google.colab import files\n",
        "from keras.preprocessing import image\n",
        "from keras.layers.serialization import activation\n",
        "from keras.preprocessing.image import ImageDataGenerator\n",
        "from keras.applications import *\n",
        "from keras.layers import Dense, GlobalAveragePooling2D, Flatten\n",
        "from keras.models import Model\n",
        "from keras import backend as K\n",
        "from tensorflow.keras import layers, Model\n",
        "from keras.models import load_model\n",
        "from tensorflow.keras.preprocessing.image import load_img\n",
        "from tensorflow.keras.preprocessing.image import img_to_array, array_to_img"
      ],
      "metadata": {
        "id": "8l1cNlP4KvTV"
      },
      "execution_count": null,
      "outputs": []
    },
    {
      "cell_type": "markdown",
      "source": [
        "#**Data directory**"
      ],
      "metadata": {
        "id": "Y849vrmPHIFv"
      }
    },
    {
      "cell_type": "code",
      "source": [
        "base_dir = '/content/drive/MyDrive/PET-CTDICOMWholeDataset'\n",
        "\n",
        "training_set_dir = os.path.join(base_dir, 'trainingSet')\n",
        "test_set_dir = os.path.join(base_dir, 'testSet')\n",
        "\n",
        "train_lungCancer_dir = os.path.join(training_set_dir, 'lungCancer')\n",
        "train_normal_dir = os.path.join(training_set_dir, 'normal')\n",
        "test_lungCancer_dir = os.path.join(test_set_dir, 'lungCancer')\n",
        "test_normal_dir = os.path.join(test_set_dir, 'normal')"
      ],
      "metadata": {
        "id": "kEtNszssHLKo"
      },
      "execution_count": null,
      "outputs": []
    },
    {
      "cell_type": "code",
      "source": [
        "print('total training lungCancer images:', len(os.listdir(train_lungCancer_dir)))\n",
        "print('total training normal images:', len(os.listdir(train_normal_dir)))\n",
        "print('total test lungCancer images:', len(os.listdir(test_lungCancer_dir)))\n",
        "print('total test normal images:', len(os.listdir(test_normal_dir)))"
      ],
      "metadata": {
        "colab": {
          "base_uri": "https://localhost:8080/"
        },
        "id": "tJgTZPxiHN6Q",
        "outputId": "e87a9c14-3243-490e-f383-157687c74402"
      },
      "execution_count": null,
      "outputs": [
        {
          "output_type": "stream",
          "name": "stdout",
          "text": [
            "total training lungCancer images: 719\n",
            "total training normal images: 726\n",
            "total test lungCancer images: 199\n",
            "total test normal images: 207\n"
          ]
        }
      ]
    },
    {
      "cell_type": "markdown",
      "source": [
        "#**Checking patient overlap**"
      ],
      "metadata": {
        "id": "v3B0qQkNHXGS"
      }
    },
    {
      "cell_type": "code",
      "source": [
        "def check_data_leakage(directory1, directory2):\n",
        "    filenames_dir1 = set(os.listdir(directory1))\n",
        "    filenames_dir2 = set(os.listdir(directory2))\n",
        "\n",
        "    common_filenames = filenames_dir1.intersection(filenames_dir2)\n",
        "\n",
        "    if len(common_filenames) > 0:\n",
        "        print(\"Data leakage detected!\")\n",
        "        print(\"Common image filenames between the directories:\", common_filenames)\n",
        "    else:\n",
        "        print(\"No data leakage detected.\")"
      ],
      "metadata": {
        "id": "Pg-tcEF29Lnt"
      },
      "execution_count": null,
      "outputs": []
    },
    {
      "cell_type": "code",
      "source": [
        "check_data_leakage(train_lungCancer_dir, test_lungCancer_dir)\n",
        "check_data_leakage(train_lungCancer_dir, test_normal_dir)\n",
        "check_data_leakage(train_normal_dir, test_normal_dir)\n",
        "check_data_leakage(train_normal_dir, test_lungCancer_dir)"
      ],
      "metadata": {
        "id": "-_NrJMdz-1Ri"
      },
      "execution_count": null,
      "outputs": []
    },
    {
      "cell_type": "markdown",
      "source": [
        "##**Data generation**"
      ],
      "metadata": {
        "id": "irZ_S6OYRLpp"
      }
    },
    {
      "cell_type": "code",
      "source": [
        "train_datagen = ImageDataGenerator(\n",
        "    rescale=1.0 / 255.0,\n",
        "    rotation_range=20,\n",
        "    width_shift_range=0.2,\n",
        "    height_shift_range=0.2,\n",
        "    shear_range=0.2,\n",
        "    zoom_range=0.2,\n",
        "    fill_mode='nearest'\n",
        ")\n",
        "\n",
        "def load_and_preprocess_dicom(dcm_path):\n",
        "    dcm_data = pydicom.dcmread(dcm_path)\n",
        "    image_data = dcm_data.pixel_array\n",
        "    cropped_image_data = image_data[66:311, 100:557,:]\n",
        "    return cropped_image_data"
      ],
      "metadata": {
        "id": "48UolD5IPXsO"
      },
      "execution_count": null,
      "outputs": []
    },
    {
      "cell_type": "code",
      "source": [
        "train_images = np.array([load_and_preprocess_dicom(os.path.join(train_lungCancer_dir, filename)) for filename in os.listdir(train_lungCancer_dir) if filename.endswith('.dcm')])\n",
        "train_labels = np.array([1] * len(train_images))\n",
        "\n",
        "normal_train_images = np.array([load_and_preprocess_dicom(os.path.join(train_normal_dir, filename)) for filename in os.listdir(train_normal_dir) if filename.endswith('.dcm')])\n",
        "normal_train_labels = np.array([0] * len(normal_train_images))\n",
        "\n",
        "train_images = np.concatenate((train_images, normal_train_images))\n",
        "train_labels = np.concatenate((train_labels, normal_train_labels))\n",
        "\n",
        "train_generator = train_datagen.flow(train_images, train_labels,\n",
        "        batch_size=80,\n",
        "        shuffle = True)\n",
        "\n",
        "test_images = np.array([load_and_preprocess_dicom(os.path.join(test_lungCancer_dir, filename)) for filename in os.listdir(test_lungCancer_dir) if filename.endswith('.dcm')])\n",
        "test_labels = np.array([1] * len(test_images))\n",
        "\n",
        "normal_test_images = np.array([load_and_preprocess_dicom(os.path.join(test_normal_dir, filename)) for filename in os.listdir(test_normal_dir) if filename.endswith('.dcm')])\n",
        "normal_test_labels = np.array([0] * len(normal_test_images))\n",
        "\n",
        "test_images = np.concatenate((test_images, normal_test_images))\n",
        "test_labels = np.concatenate((test_labels, normal_test_labels))"
      ],
      "metadata": {
        "id": "Lb7mahgPQpdv"
      },
      "execution_count": null,
      "outputs": []
    },
    {
      "cell_type": "markdown",
      "source": [
        "#**Defining Inception model**"
      ],
      "metadata": {
        "id": "Yin92zmlIOT-"
      }
    },
    {
      "cell_type": "code",
      "source": [
        "pre_trained_model = InceptionV3(include_top=False,\n",
        "                                        weights= 'imagenet',\n",
        "                                        input_shape = (245, 457, 3))\n",
        "\n",
        "for layer in pre_trained_model.layers:\n",
        "  layer.trainable = False"
      ],
      "metadata": {
        "id": "yNcGHdO5IQjo"
      },
      "execution_count": null,
      "outputs": []
    },
    {
      "cell_type": "code",
      "source": [
        "pre_trained_model.summary()"
      ],
      "metadata": {
        "id": "LqGL8CG-Idbz"
      },
      "execution_count": null,
      "outputs": []
    },
    {
      "cell_type": "code",
      "source": [
        "last_layer = pre_trained_model.get_layer('mixed10')\n",
        "print('last layer output shape: ', last_layer.output_shape)\n",
        "last_output = last_layer.output\n",
        "\n",
        "x = layers.Flatten()(last_output)\n",
        "x = layers.Dense(2048, activation='relu')(x)\n",
        "x = layers.Dense(1024, activation='relu')(x)\n",
        "x = layers.Dense(512, activation='relu')(x)\n",
        "x = layers.Dense(256, activation='relu')(x)\n",
        "x = layers.Dense(128, activation='relu')(x)\n",
        "x = layers.Dense(32, activation='relu')(x)\n",
        "x = layers.Dense(1)(x)\n",
        "x = layers.Activation(tf.nn.sigmoid)(x)\n",
        "\n",
        "model = Model(pre_trained_model.input, x)"
      ],
      "metadata": {
        "id": "YqiVGj5rIjlT"
      },
      "execution_count": null,
      "outputs": []
    },
    {
      "cell_type": "code",
      "source": [
        "model.summary()"
      ],
      "metadata": {
        "id": "Z8upEfo5Ilcj"
      },
      "execution_count": null,
      "outputs": []
    },
    {
      "cell_type": "code",
      "source": [
        "savingPath = os.makedirs('/content/sample_data/temporaryWeights')\n",
        "checkpoint_path = '/content/sample_data/temporaryWeights'\n",
        "checkpoint_dir = os.path.dirname(checkpoint_path)\n",
        "print(checkpoint_path)\n",
        "cp_callback = tf.keras.callbacks.ModelCheckpoint(checkpoint_path, save_weights_only=True, save_best_only=True, verbose= 1)"
      ],
      "metadata": {
        "id": "HL65B2XgI5sR"
      },
      "execution_count": null,
      "outputs": []
    },
    {
      "cell_type": "code",
      "source": [
        "model.compile(optimizer=tf.keras.optimizers.Adam(learning_rate= 0.001), loss= 'binary_crossentropy', metrics= [tf.keras.metrics.BinaryAccuracy(name=\"Binary_accuracy\"),\n",
        "                        tf.keras.metrics.Precision(name='Precision'),\n",
        "                        tf.keras.metrics.Recall(name='Recall'),\n",
        "                        tf.keras.metrics.TruePositives(name='TP'),\n",
        "                        tf.keras.metrics.TrueNegatives(name='TN'),\n",
        "                        tf.keras.metrics.FalseNegatives(name='FN'),\n",
        "                        tf.keras.metrics.FalsePositives(name='FP'),\n",
        "                        tf.keras.metrics.AUC(name='AUC')])"
      ],
      "metadata": {
        "id": "G3oAzLjsIrMp"
      },
      "execution_count": null,
      "outputs": []
    },
    {
      "cell_type": "code",
      "source": [
        "history = model.fit(train_generator, epochs=20, validation_data=(test_images, test_labels),\n",
        "            verbose = 1,\n",
        "            callbacks = [cp_callback])"
      ],
      "metadata": {
        "id": "aaxD8LB5ItVk"
      },
      "execution_count": null,
      "outputs": []
    },
    {
      "cell_type": "markdown",
      "source": [
        "#**Defining ResNet152V2 model**"
      ],
      "metadata": {
        "id": "EvBC32eEdKAx"
      }
    },
    {
      "cell_type": "code",
      "source": [
        "pre_trained_model = ResNet152V2(include_top=False,\n",
        "                                        weights= 'imagenet',\n",
        "                                        input_shape = (245, 457, 3))\n",
        "\n",
        "for layer in pre_trained_model.layers:\n",
        "  layer.trainable = False"
      ],
      "metadata": {
        "id": "UPrWT0yESAvn"
      },
      "execution_count": null,
      "outputs": []
    },
    {
      "cell_type": "code",
      "source": [
        "last_layer = pre_trained_model.get_layer('post_relu')\n",
        "print('last layer output shape: ', last_layer.output_shape)\n",
        "last_output = last_layer.output\n",
        "\n",
        "x = layers.Flatten()(last_output)\n",
        "x = layers.Dense(128, activation='relu')(x)\n",
        "x = layers.Dense(64, activation='relu')(x)\n",
        "x = layers.Dense(32, activation='relu')(x)\n",
        "x = layers.Dense(1)(x)\n",
        "x = layers.Activation(tf.nn.sigmoid)(x)\n",
        "\n",
        "model = Model(pre_trained_model.input, x)"
      ],
      "metadata": {
        "id": "YqkgDiadd4TF"
      },
      "execution_count": null,
      "outputs": []
    },
    {
      "cell_type": "code",
      "source": [
        "savingPath = os.makedirs('/content/sample_data/temporaryWeights')\n",
        "checkpoint_path = '/content/sample_data/temporaryWeights'\n",
        "checkpoint_dir = os.path.dirname(checkpoint_path)\n",
        "print(checkpoint_path)\n",
        "cp_callback = tf.keras.callbacks.ModelCheckpoint(checkpoint_path, save_weights_only=True, save_best_only=True, verbose= 1)"
      ],
      "metadata": {
        "id": "Dtgufz9QeDdJ"
      },
      "execution_count": null,
      "outputs": []
    },
    {
      "cell_type": "code",
      "source": [
        "model.compile(optimizer=tf.keras.optimizers.Adam(learning_rate= 0.001), loss= 'binary_crossentropy', metrics= [tf.keras.metrics.BinaryAccuracy(name=\"Binary_accuracy\"),\n",
        "                        tf.keras.metrics.Precision(name='Precision'),\n",
        "                        tf.keras.metrics.Recall(name='Recall'),\n",
        "                        tf.keras.metrics.TruePositives(name='TP'),\n",
        "                        tf.keras.metrics.TrueNegatives(name='TN'),\n",
        "                        tf.keras.metrics.FalseNegatives(name='FN'),\n",
        "                        tf.keras.metrics.FalsePositives(name='FP'),\n",
        "                        tf.keras.metrics.AUC(name='AUC')])"
      ],
      "metadata": {
        "id": "5T2UbfHMeDdK"
      },
      "execution_count": null,
      "outputs": []
    },
    {
      "cell_type": "code",
      "source": [
        "history = model.fit(train_generator, validation_data=(test_images, test_labels),\n",
        "            verbose = 1,\n",
        "            epochs = 15, callbacks = [cp_callback])"
      ],
      "metadata": {
        "id": "1yPHq-gqeDdL"
      },
      "execution_count": null,
      "outputs": []
    }
  ]
}